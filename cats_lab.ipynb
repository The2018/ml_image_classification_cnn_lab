{
 "cells": [
  {
   "cell_type": "markdown",
   "metadata": {},
   "source": [
    "# Logistic Regression: cat or dog?\n",
    "In this lab you will teach computer to distinguish between images of cats and dogs using Logistic Regression. \n",
    "The input dataset consists of 10,000 images manually labeled as ''cats'' and ''dogs''. The original dataset was downloaded from kaggle. \n",
    "\n",
    "Download the entire [folder](https://drive.google.com/file/d/1V4pAtGy7VOJQlxM3g8gyDee8h5k7VTSF/view?usp=sharing)  with images and unzip it into your local directory containing input files for this course. Then set the path below to point to this directory."
   ]
  },
  {
   "cell_type": "code",
   "execution_count": 1,
   "metadata": {},
   "outputs": [],
   "source": [
    "data_dir = \"../data_set/cat_dog_data\""
   ]
  },
  {
   "cell_type": "markdown",
   "metadata": {},
   "source": [
    "## 1. Building the model"
   ]
  },
  {
   "cell_type": "markdown",
   "metadata": {},
   "source": [
    "### 1.1. Import all the required libraries. \n",
    "If you get an import error on `keras`, run one of the next 2 cells to install `keras` in the current Jupyter kernel, and then rerun the import cell. "
   ]
  },
  {
   "cell_type": "code",
   "execution_count": 2,
   "metadata": {
    "scrolled": false
   },
   "outputs": [],
   "source": [
    "import numpy as np\n",
    "import matplotlib.pyplot as plt\n",
    "from warnings import simplefilter\n",
    "# ignore all future warnings\n",
    "simplefilter(action='ignore', category=FutureWarning)\n",
    "\n",
    "from PIL import Image\n",
    "from keras import preprocessing\n",
    "import sys"
   ]
  },
  {
   "cell_type": "markdown",
   "metadata": {},
   "source": [
    "### 1.2. Load images\n",
    "First check if the path to the directory is correct:"
   ]
  },
  {
   "cell_type": "code",
   "execution_count": 3,
   "metadata": {},
   "outputs": [
    {
     "name": "stdout",
     "output_type": "stream",
     "text": [
      "['.DS_Store', 'training_set', 'test_set']\n"
     ]
    }
   ],
   "source": [
    "import os\n",
    "cwd = os.getcwd()\n",
    "os.chdir(cwd)\n",
    "print(os.listdir(data_dir))"
   ]
  },
  {
   "cell_type": "markdown",
   "metadata": {},
   "source": [
    "Next create two lists and fill them with the paths to the corresponding images. "
   ]
  },
  {
   "cell_type": "code",
   "execution_count": 4,
   "metadata": {},
   "outputs": [
    {
     "data": {
      "text/plain": [
       "(4000, 4000)"
      ]
     },
     "execution_count": 4,
     "metadata": {},
     "output_type": "execute_result"
    }
   ],
   "source": [
    "train_cats_files = []\n",
    "train_path_cats = data_dir +\"/training_set/cats/\"\n",
    "for path in os.listdir(train_path_cats):\n",
    "    if '.jpg' in path:\n",
    "        train_cats_files.append(os.path.join(train_path_cats, path))\n",
    "        \n",
    "train_dogs_files = []\n",
    "train_path_dogs = data_dir +\"/training_set/dogs/\"\n",
    "for path in os.listdir(train_path_dogs):\n",
    "    if '.jpg' in path:\n",
    "        train_dogs_files.append(os.path.join(train_path_dogs, path))\n",
    "        \n",
    "len(train_cats_files), len(train_dogs_files)"
   ]
  },
  {
   "cell_type": "markdown",
   "metadata": {},
   "source": [
    "Now we have the paths to each image in the training set.\n",
    "We need to convert each image into a numpy array. For this we use the preprocessing module in the `keras` library. "
   ]
  },
  {
   "cell_type": "code",
   "execution_count": 5,
   "metadata": {},
   "outputs": [],
   "source": [
    "k = 200\n",
    "sample_dog_file = train_dogs_files[k]\n",
    "img = preprocessing.image.load_img(sample_dog_file, target_size=(64, 64))\n",
    "img_array = preprocessing.image.img_to_array(img)"
   ]
  },
  {
   "cell_type": "code",
   "execution_count": 6,
   "metadata": {},
   "outputs": [
    {
     "data": {
      "text/plain": [
       "<matplotlib.image.AxesImage at 0x13f39ef70>"
      ]
     },
     "execution_count": 6,
     "metadata": {},
     "output_type": "execute_result"
    },
    {
     "data": {
      "image/png": "[encoded data removed]",
      "text/plain": [
       "<Figure size 432x288 with 1 Axes>"
      ]
     },
     "metadata": {
      "needs_background": "light"
     },
     "output_type": "display_data"
    }
   ],
   "source": [
    "plt.imshow(np.uint8(img_array))"
   ]
  },
  {
   "cell_type": "code",
   "execution_count": 7,
   "metadata": {},
   "outputs": [
    {
     "data": {
      "text/plain": [
       "(64, 64, 3)"
      ]
     },
     "execution_count": 7,
     "metadata": {},
     "output_type": "execute_result"
    }
   ],
   "source": [
    "img_array.shape\n",
    "# print(img_array)"
   ]
  },
  {
   "cell_type": "markdown",
   "metadata": {},
   "source": [
    "Each image is represented as a $64*64$ matrix of pixels, and for each pixel we have values of Red, Green, and Blue (RGB). "
   ]
  },
  {
   "cell_type": "markdown",
   "metadata": {},
   "source": [
    "### 1.3. Images to numpy arrays\n",
    "Now we create training sets for cats and for dogs and then concatenate 2 sets into a single `X_train` dataset of features."
   ]
  },
  {
   "cell_type": "code",
   "execution_count": 8,
   "metadata": {},
   "outputs": [
    {
     "data": {
      "text/plain": [
       "(8000, 64, 64, 3)"
      ]
     },
     "execution_count": 8,
     "metadata": {},
     "output_type": "execute_result"
    }
   ],
   "source": [
    "# image dimensions: using 32x32 pixels just for speed\n",
    "d = 64\n",
    "X_train_orig = np.zeros((8000, d, d, 3), dtype='float32')\n",
    "for i in range(4000):    \n",
    "    path = train_cats_files[i]\n",
    "    img = preprocessing.image.load_img(path, target_size=(d, d))\n",
    "    X_train_orig[i] = preprocessing.image.img_to_array(img)\n",
    "\n",
    "for i in range(4000,8000):    \n",
    "    path = train_dogs_files[i-4000]\n",
    "    img = preprocessing.image.load_img(path, target_size=(d, d))\n",
    "    X_train_orig[i] = preprocessing.image.img_to_array(img)    \n",
    "\n",
    "X_train_orig.shape"
   ]
  },
  {
   "cell_type": "markdown",
   "metadata": {},
   "source": [
    "### 1.4. Flatten 3D image arrays\n",
    "Our model requires each object to be a 1D vector of features -\n",
    "we need to flatten our 3D image arrays.\n",
    "\n",
    "After reshaping we will have,\n",
    "$d*d*3$ features as a single array for each picture in the training set (8000 pics),"
   ]
  },
  {
   "cell_type": "code",
   "execution_count": 10,
   "metadata": {},
   "outputs": [
    {
     "name": "stdout",
     "output_type": "stream",
     "text": [
      "[[[0.13333334 0.09411765 0.05882353]\n",
      "  [0.13333334 0.09411765 0.05882353]\n",
      "  [0.12941177 0.10196079 0.0627451 ]\n",
      "  ...\n",
      "  [0.4        0.25490198 0.15294118]\n",
      "  [0.41568628 0.23921569 0.14901961]\n",
      "  [0.39607844 0.2784314  0.16862746]]\n",
      "\n",
      " [[0.14509805 0.10588235 0.07058824]\n",
      "  [0.14117648 0.10196079 0.06666667]\n",
      "  [0.14509805 0.11764706 0.07843138]\n",
      "  ...\n",
      "  [0.40392157 0.28235295 0.17254902]\n",
      "  [0.43137255 0.28627452 0.18431373]\n",
      "  [0.40392157 0.3137255  0.19215687]]\n",
      "\n",
      " [[0.14117648 0.10196079 0.06666667]\n",
      "  [0.15294118 0.11372549 0.07843138]\n",
      "  [0.15294118 0.11372549 0.07843138]\n",
      "  ...\n",
      "  [0.42352942 0.30588236 0.21176471]\n",
      "  [0.41960785 0.2784314  0.19215687]\n",
      "  [0.39607844 0.3137255  0.20784314]]\n",
      "\n",
      " ...\n",
      "\n",
      " [[0.2509804  0.1882353  0.12941177]\n",
      "  [0.28235295 0.21960784 0.16078432]\n",
      "  [0.25882354 0.19607843 0.13725491]\n",
      "  ...\n",
      "  [0.00392157 0.00784314 0.        ]\n",
      "  [0.1882353  0.12156863 0.05882353]\n",
      "  [0.2784314  0.21960784 0.12941177]]\n",
      "\n",
      " [[0.22745098 0.1882353  0.14901961]\n",
      "  [0.24313726 0.20392157 0.16470589]\n",
      "  [0.23137255 0.1764706  0.1254902 ]\n",
      "  ...\n",
      "  [0.1764706  0.14901961 0.08627451]\n",
      "  [0.18431373 0.12941177 0.07843138]\n",
      "  [0.19607843 0.1254902  0.07843138]]\n",
      "\n",
      " [[0.34117648 0.2784314  0.21568628]\n",
      "  [0.29411766 0.23137255 0.16862746]\n",
      "  [0.34117648 0.27450982 0.21176471]\n",
      "  ...\n",
      "  [0.25882354 0.1882353  0.14117648]\n",
      "  [0.21568628 0.16862746 0.11372549]\n",
      "  [0.19215687 0.16470589 0.10196079]]]\n"
     ]
    },
    {
     "data": {
      "text/plain": [
       "(8000, 64, 64, 3)"
      ]
     },
     "execution_count": 10,
     "metadata": {},
     "output_type": "execute_result"
    }
   ],
   "source": [
    "X_train = X_train_orig / 255.0\n",
    "print(X_train[0])\n",
    "X_train.shape"
   ]
  },
  {
   "cell_type": "markdown",
   "metadata": {},
   "source": [
    "### 1.5. Create class labels\n",
    "Now we need to create the corresponding class label vectors. We will mark the cats as class 1, and the dogs as class 0 (not cats)."
   ]
  },
  {
   "cell_type": "code",
   "execution_count": 11,
   "metadata": {},
   "outputs": [
    {
     "name": "stdout",
     "output_type": "stream",
     "text": [
      "At position 3 should be a cat: 1.0\n",
      "At position 4002 should be a dog: 0.0\n"
     ]
    },
    {
     "data": {
      "text/plain": [
       "(8000, 2)"
      ]
     },
     "execution_count": 11,
     "metadata": {},
     "output_type": "execute_result"
    }
   ],
   "source": [
    "Y_train_orig = np.ones((4000,)) # 1 - 4000 are cat pictures so our label is 1\n",
    "Y_train_orig = np.concatenate((Y_train_orig, np.zeros((4000,)))) # 4000 - 8000 are dog pictures so our label is 0\n",
    "Y_train = Y_train_orig.reshape(-1)\n",
    "print(\"At position 3 should be a cat:\", Y_train[3])\n",
    "print(\"At position 4002 should be a dog:\", Y_train[4002])\n",
    "\n",
    "from keras.utils.np_utils import to_categorical # convert to one-hot-encoding\n",
    "Y_train = to_categorical(Y_train, num_classes = 2)\n",
    "\n",
    "Y_train.shape"
   ]
  },
  {
   "cell_type": "markdown",
   "metadata": {},
   "source": [
    "### 1.6. Build the model\n",
    "We are using the `LogisticRegression` class from `sklearn` package.\n",
    "<ul>\n",
    "<li>The <code>random_state</code> parameter tells to shuffle the samples, so the classifier does not see all the cats first, and then the dogs. Specifying  the `random_state` value ensures that the algorithm starts from the same random seed and produces reproducible results.</li> \n",
    "<li>The <code>max_iter</code> parameter tells algorithm to stop even if it did not reach the thrreshold for convergence yet.</li>\n",
    "    <li>In the <code>solver</code> parameter you can specify the algorithm which you want to use.</li>\n",
    "</ul>\n",
    "\n",
    "You can read more about the parameters of  `LogisticRegression` model [here](https://scikit-learn.org/stable/modules/generated/sklearn.linear_model.LogisticRegression.html)."
   ]
  },
  {
   "cell_type": "markdown",
   "metadata": {},
   "source": [
    "The score of the logistic regression classifier is simply a percentage of correctly predicted data points. This measure is called the **accuracy** of the model."
   ]
  },
  {
   "cell_type": "code",
   "execution_count": null,
   "metadata": {},
   "outputs": [],
   "source": [
    "acc_train = logreg.score(X_train, Y_train)\n",
    "print(\"train accuracy: {} \".format(acc_train))"
   ]
  },
  {
   "cell_type": "markdown",
   "metadata": {},
   "source": [
    "## 2. Lab Task 1: Model evaluation  \\[60%\\]\n",
    "Obviously, we are much more interested to see how our model performs on the test data. To create a test set, repeat steps 1.2-1.5 for the test_set folder."
   ]
  },
  {
   "cell_type": "markdown",
   "metadata": {},
   "source": [
    "### 2.1. Load images"
   ]
  },
  {
   "cell_type": "code",
   "execution_count": 12,
   "metadata": {},
   "outputs": [
    {
     "data": {
      "text/plain": [
       "(1000, 1000)"
      ]
     },
     "execution_count": 12,
     "metadata": {},
     "output_type": "execute_result"
    }
   ],
   "source": [
    "test_cats_files = []\n",
    "test_path_cats = data_dir +\"/test_set/cats/\"\n",
    "for path in os.listdir(test_path_cats):\n",
    "    if \".jpg\" in path:\n",
    "        test_cats_files.append(os.path.join(test_path_cats,path))\n",
    "\n",
    "test_dogs_files = []\n",
    "test_path_dogs = data_dir +\"/test_set/dogs/\"\n",
    "for path in os.listdir(test_path_dogs):\n",
    "    if '.jpg' in path:\n",
    "        test_dogs_files.append(os.path.join(test_path_dogs, path))\n",
    "\n",
    "len(test_cats_files), len(test_dogs_files)"
   ]
  },
  {
   "cell_type": "markdown",
   "metadata": {},
   "source": [
    "### 2.2. Images to numpy arrays"
   ]
  },
  {
   "cell_type": "code",
   "execution_count": 13,
   "metadata": {},
   "outputs": [
    {
     "data": {
      "text/plain": [
       "(2000, 64, 64, 3)"
      ]
     },
     "execution_count": 13,
     "metadata": {},
     "output_type": "execute_result"
    }
   ],
   "source": [
    "X_test_orig = np.zeros((2000, d, d, 3), dtype='float32')\n",
    "\n",
    "for i in range(1000):\n",
    "    img = preprocessing.image.load_img(test_cats_files[i], target_size=(d, d))\n",
    "    X_test_orig[i] = preprocessing.image.img_to_array(img)\n",
    "    \n",
    "for i in range(1000, 2000):\n",
    "    img = preprocessing.image.load_img(test_dogs_files[i-1000], target_size=(d, d))\n",
    "    X_test_orig[i] = preprocessing.image.img_to_array(img)\n",
    "    \n",
    "X_test_orig.shape"
   ]
  },
  {
   "cell_type": "markdown",
   "metadata": {},
   "source": [
    "### 2.3. Flatten 3D image arrays"
   ]
  },
  {
   "cell_type": "code",
   "execution_count": 15,
   "metadata": {},
   "outputs": [
    {
     "name": "stdout",
     "output_type": "stream",
     "text": [
      "[[[0.09803922 0.03921569 0.6392157 ]\n",
      "  [0.23529412 0.20784314 0.64705884]\n",
      "  [0.18431373 0.22352941 0.5647059 ]\n",
      "  ...\n",
      "  [0.25490198 0.21176471 0.5803922 ]\n",
      "  [0.2627451  0.20784314 0.5921569 ]\n",
      "  [0.2        0.14901961 0.59607846]]\n",
      "\n",
      " [[0.23137255 0.21176471 0.6117647 ]\n",
      "  [0.9843137  0.9882353  0.95686275]\n",
      "  [0.9529412  1.         1.        ]\n",
      "  ...\n",
      "  [0.99215686 0.972549   0.9882353 ]\n",
      "  [0.96862745 0.972549   0.9490196 ]\n",
      "  [0.8        0.7372549  0.63529414]]\n",
      "\n",
      " [[0.27450982 0.1764706  0.6862745 ]\n",
      "  [0.9411765  0.9372549  1.        ]\n",
      "  [0.6666667  0.7764706  0.7176471 ]\n",
      "  ...\n",
      "  [0.8901961  0.90588236 0.9019608 ]\n",
      "  [0.89411765 0.9490196  0.8901961 ]\n",
      "  [0.8235294  0.72156864 0.73333335]]\n",
      "\n",
      " ...\n",
      "\n",
      " [[0.28235295 0.19607843 0.5803922 ]\n",
      "  [0.9254902  0.8784314  0.8156863 ]\n",
      "  [0.45490196 0.22745098 0.14117648]\n",
      "  ...\n",
      "  [0.67058825 0.25882354 0.24313726]\n",
      "  [0.65882355 0.2627451  0.18431373]\n",
      "  [0.7176471  0.76862746 0.5882353 ]]\n",
      "\n",
      " [[0.23921569 0.25882354 0.50980395]\n",
      "  [0.96862745 1.         0.8980392 ]\n",
      "  [0.98039216 1.         0.9019608 ]\n",
      "  ...\n",
      "  [1.         0.96862745 0.89411765]\n",
      "  [1.         1.         0.8039216 ]\n",
      "  [0.8039216  0.7137255  0.65882355]]\n",
      "\n",
      " [[0.02352941 0.08627451 0.56078434]\n",
      "  [0.2627451  0.2        0.6784314 ]\n",
      "  [0.21176471 0.22745098 0.5764706 ]\n",
      "  ...\n",
      "  [0.23921569 0.21568628 0.6       ]\n",
      "  [0.23137255 0.22745098 0.53333336]\n",
      "  [0.15294118 0.12941177 0.70980394]]]\n"
     ]
    },
    {
     "data": {
      "text/plain": [
       "(2000, 64, 64, 3)"
      ]
     },
     "execution_count": 15,
     "metadata": {},
     "output_type": "execute_result"
    }
   ],
   "source": [
    "X_test = X_test_orig / 255.0\n",
    "print(X_test[0])\n",
    "X_test.shape"
   ]
  },
  {
   "cell_type": "markdown",
   "metadata": {},
   "source": [
    "### 2.4. Create class labels"
   ]
  },
  {
   "cell_type": "code",
   "execution_count": 16,
   "metadata": {},
   "outputs": [
    {
     "data": {
      "text/plain": [
       "(2000, 2)"
      ]
     },
     "execution_count": 16,
     "metadata": {},
     "output_type": "execute_result"
    }
   ],
   "source": [
    "Y_test_orig = np.ones((1000,))\n",
    "Y_test_orig = np.concatenate((Y_test_orig, np.zeros((1000,)))) \n",
    "Y_test = Y_test_orig.reshape(-1)\n",
    "Y_test = to_categorical(Y_test, num_classes = 2)\n",
    "\n",
    "Y_test.shape"
   ]
  },
  {
   "cell_type": "code",
   "execution_count": 54,
   "metadata": {},
   "outputs": [],
   "source": [
    "from sklearn.metrics import confusion_matrix\n",
    "import itertools\n",
    "\n",
    "from keras.utils.np_utils import to_categorical # convert to one-hot-encoding\n",
    "from keras.models import Sequential\n",
    "from keras.layers import Dense, Dropout, Flatten, Conv2D, MaxPool2D\n",
    "from keras.optimizers import RMSprop,Adam\n",
    "from keras.preprocessing.image import ImageDataGenerator\n",
    "from keras.callbacks import ReduceLROnPlateau\n",
    "\n",
    "model = Sequential()\n",
    "#\n",
    "model.add(Conv2D(filters = 8, kernel_size = (5,5),padding = 'Same', \n",
    "                 activation ='relu', input_shape = (64,64,3)))\n",
    "model.add(MaxPool2D(pool_size=(2,2)))\n",
    "model.add(Dropout(0.25))\n",
    "#\n",
    "model.add(Conv2D(filters = 16, kernel_size = (3,3),padding = 'Same', \n",
    "                 activation ='relu'))\n",
    "model.add(MaxPool2D(pool_size=(2,2), strides=(2,2)))\n",
    "model.add(Dropout(0.25))\n",
    "# fully connected\n",
    "model.add(Flatten())\n",
    "model.add(Dense(256, activation = \"relu\"))\n",
    "model.add(Dropout(0.5))\n",
    "model.add(Dense(2, activation = \"softmax\"))"
   ]
  },
  {
   "cell_type": "code",
   "execution_count": 55,
   "metadata": {},
   "outputs": [],
   "source": [
    "# Define the optimizer\n",
    "optimizer = Adam(lr=0.001, beta_1=0.9, beta_2=0.999)"
   ]
  },
  {
   "cell_type": "code",
   "execution_count": 56,
   "metadata": {},
   "outputs": [],
   "source": [
    "# Compile the model\n",
    "model.compile(optimizer = optimizer , loss = \"categorical_crossentropy\", metrics=[\"accuracy\"])"
   ]
  },
  {
   "cell_type": "code",
   "execution_count": 57,
   "metadata": {},
   "outputs": [
    {
     "name": "stdout",
     "output_type": "stream",
     "text": [
      "Epoch 1/10\n",
      "32/32 [==============================] - 11s 336ms/step - loss: 0.7248 - accuracy: 0.5145 - val_loss: 0.6916 - val_accuracy: 0.5070\n",
      "Epoch 2/10\n",
      "32/32 [==============================] - 10s 306ms/step - loss: 0.6894 - accuracy: 0.5379 - val_loss: 0.6892 - val_accuracy: 0.5115\n",
      "Epoch 3/10\n",
      "32/32 [==============================] - 10s 311ms/step - loss: 0.6791 - accuracy: 0.5714 - val_loss: 0.6837 - val_accuracy: 0.5180\n",
      "Epoch 4/10\n",
      "32/32 [==============================] - 10s 312ms/step - loss: 0.6623 - accuracy: 0.6028 - val_loss: 0.6621 - val_accuracy: 0.5815\n",
      "Epoch 5/10\n",
      "32/32 [==============================] - 10s 318ms/step - loss: 0.6384 - accuracy: 0.6380 - val_loss: 0.6294 - val_accuracy: 0.6425\n",
      "Epoch 6/10\n",
      "32/32 [==============================] - 10s 318ms/step - loss: 0.6213 - accuracy: 0.6535 - val_loss: 0.6199 - val_accuracy: 0.6610\n",
      "Epoch 7/10\n",
      "32/32 [==============================] - 11s 330ms/step - loss: 0.6030 - accuracy: 0.6714 - val_loss: 0.6088 - val_accuracy: 0.6675\n",
      "Epoch 8/10\n",
      "32/32 [==============================] - 11s 339ms/step - loss: 0.5865 - accuracy: 0.6908 - val_loss: 0.5923 - val_accuracy: 0.6820\n",
      "Epoch 9/10\n",
      "32/32 [==============================] - 11s 344ms/step - loss: 0.5723 - accuracy: 0.7019 - val_loss: 0.5764 - val_accuracy: 0.6915\n",
      "Epoch 10/10\n",
      "32/32 [==============================] - 11s 336ms/step - loss: 0.5616 - accuracy: 0.7081 - val_loss: 0.5663 - val_accuracy: 0.7105\n"
     ]
    }
   ],
   "source": [
    "# Fit the model\n",
    "epochs = 10\n",
    "batch_size = 250\n",
    "\n",
    "history = model.fit(X_train,Y_train, epochs = epochs, validation_data = (X_test,Y_test), steps_per_epoch=X_train.shape[0] // batch_size)\n"
   ]
  },
  {
   "cell_type": "markdown",
   "metadata": {},
   "source": [
    "### 2.5. Accuracy for the test set"
   ]
  },
  {
   "cell_type": "code",
   "execution_count": 58,
   "metadata": {},
   "outputs": [
    {
     "data": {
      "image/png": "[encoded data removed]",
      "text/plain": [
       "<Figure size 432x288 with 1 Axes>"
      ]
     },
     "metadata": {
      "needs_background": "light"
     },
     "output_type": "display_data"
    }
   ],
   "source": [
    "plt.plot(history.history['val_loss'], color='b', label=\"validation loss\")\n",
    "plt.title(\"Test Loss\")\n",
    "plt.xlabel(\"Number of Epochs\")\n",
    "plt.ylabel(\"Loss\")\n",
    "plt.legend()\n",
    "plt.show()"
   ]
  },
  {
   "cell_type": "code",
   "execution_count": 59,
   "metadata": {},
   "outputs": [
    {
     "data": {
      "image/png": "[encoded data removed]",
      "text/plain": [
       "<Figure size 576x576 with 2 Axes>"
      ]
     },
     "metadata": {
      "needs_background": "light"
     },
     "output_type": "display_data"
    }
   ],
   "source": [
    "# compute the confusion matrix\n",
    "import seaborn as sns\n",
    "\n",
    "Y_pred = model.predict(X_test)\n",
    "Y_pred_classes = np.argmax(Y_pred,axis = 1) \n",
    "Y_true = np.argmax(Y_test,axis = 1) \n",
    "confusion_mtx = confusion_matrix(Y_true, Y_pred_classes) \n",
    "\n",
    "# plot the confusion matrix\n",
    "f,ax = plt.subplots(figsize=(8, 8))\n",
    "sns.heatmap(confusion_mtx, annot=True, linewidths=0.01,cmap=\"Greens\",linecolor=\"gray\", fmt= '.1f',ax=ax)\n",
    "plt.xlabel(\"Predicted Label\")\n",
    "plt.ylabel(\"True Label\")\n",
    "plt.title(\"Confusion Matrix\")\n",
    "plt.show()"
   ]
  },
  {
   "cell_type": "code",
   "execution_count": 60,
   "metadata": {},
   "outputs": [
    {
     "name": "stdout",
     "output_type": "stream",
     "text": [
      "[[0.432491   0.567509  ]\n",
      " [0.40028515 0.5997148 ]]\n"
     ]
    },
    {
     "data": {
      "text/plain": [
       "<Figure size 432x288 with 0 Axes>"
      ]
     },
     "metadata": {},
     "output_type": "display_data"
    },
    {
     "data": {
      "image/png": "[encoded data removed]",
      "text/plain": [
       "<Figure size 432x288 with 2 Axes>"
      ]
     },
     "metadata": {
      "needs_background": "light"
     },
     "output_type": "display_data"
    }
   ],
   "source": [
    "# predict random image of cat and dog\n",
    "d = 64\n",
    "\n",
    "test_dir = \"./\"\n",
    "test_path_files = []\n",
    "for path in os.listdir(test_dir):\n",
    "    if \".jpg\" in path:\n",
    "        test_path_files.append(os.path.join(test_dir,path))\n",
    "\n",
    "img_arr = np.zeros((2, d, d, 3), dtype='float32')\n",
    "for i in range(2):\n",
    "    img = preprocessing.image.load_img(test_path_files[i], target_size=(d, d))\n",
    "    img_arr[i] = preprocessing.image.img_to_array(img)\n",
    "\n",
    "X_new = img_arr / 255\n",
    "Y_new = model.predict(X_new)\n",
    "print(Y_new)\n",
    "Y_new_classes = np.argmax(Y_new,axis = 1) \n",
    "\n",
    "display = ['dog','cat']\n",
    "%matplotlib inline\n",
    "\n",
    "plt.figure()\n",
    "f, axarr = plt.subplots(1,2) \n",
    "\n",
    "for i in range(2):\n",
    "    axarr[i].imshow(np.uint8(img_arr[i]))\n",
    "    axarr[i].set_title(\"predicted as \"+display[int(Y_new_classes[i])])"
   ]
  }
 ],
 "metadata": {
  "kernelspec": {
   "display_name": "Python 3",
   "language": "python",
   "name": "python3"
  },
  "language_info": {
   "codemirror_mode": {
    "name": "ipython",
    "version": 3
   },
   "file_extension": ".py",
   "mimetype": "text/x-python",
   "name": "python",
   "nbconvert_exporter": "python",
   "pygments_lexer": "ipython3",
   "version": "3.8.3"
  }
 },
 "nbformat": 4,
 "nbformat_minor": 4
}
